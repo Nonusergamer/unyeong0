{
 "cells": [
  {
   "cell_type": "code",
   "execution_count": 5,
   "id": "1fd7287d",
   "metadata": {},
   "outputs": [],
   "source": [
    "from encore import get_stock"
   ]
  },
  {
   "cell_type": "code",
   "execution_count": 6,
   "id": "741b2688",
   "metadata": {},
   "outputs": [],
   "source": [
    "import sys"
   ]
  },
  {
   "cell_type": "code",
   "execution_count": 7,
   "id": "525e5f1d",
   "metadata": {
    "scrolled": true
   },
   "outputs": [
    {
     "data": {
      "text/plain": [
       "['C:\\\\workspace',\n",
       " 'C:\\\\Users\\\\Playdata\\\\anaconda3\\\\python39.zip',\n",
       " 'C:\\\\Users\\\\Playdata\\\\anaconda3\\\\DLLs',\n",
       " 'C:\\\\Users\\\\Playdata\\\\anaconda3\\\\lib',\n",
       " 'C:\\\\Users\\\\Playdata\\\\anaconda3',\n",
       " '',\n",
       " 'C:\\\\Users\\\\Playdata\\\\anaconda3\\\\lib\\\\site-packages',\n",
       " 'C:\\\\Users\\\\Playdata\\\\anaconda3\\\\lib\\\\site-packages\\\\win32',\n",
       " 'C:\\\\Users\\\\Playdata\\\\anaconda3\\\\lib\\\\site-packages\\\\win32\\\\lib',\n",
       " 'C:\\\\Users\\\\Playdata\\\\anaconda3\\\\lib\\\\site-packages\\\\Pythonwin',\n",
       " 'C:\\\\Users\\\\Playdata\\\\anaconda3\\\\lib\\\\site-packages\\\\IPython\\\\extensions',\n",
       " 'C:\\\\Users\\\\Playdata\\\\.ipython']"
      ]
     },
     "execution_count": 7,
     "metadata": {},
     "output_type": "execute_result"
    }
   ],
   "source": [
    "sys.path"
   ]
  },
  {
   "cell_type": "code",
   "execution_count": 17,
   "id": "ef9a0c13",
   "metadata": {},
   "outputs": [],
   "source": [
    "rt = get_stock('005930', 1, 10)"
   ]
  },
  {
   "cell_type": "code",
   "execution_count": 18,
   "id": "e237ec4c",
   "metadata": {},
   "outputs": [
    {
     "data": {
      "text/plain": [
       "[['2023.01.26', '63600', '1000', '62800', '63700', '61700', '1325106'],\n",
       " ['2023.01.25', '62600', '0', '0', '0', '0', '2018473'],\n",
       " ['2023.01.20', '61200', '400', '60500', '61900', '60500', '1376217'],\n",
       " ['2023.01.19', '60800', '800', '61100', '61400', '60200', '1687361'],\n",
       " ['2023.01.18', '61600', '200', '61500', '62500', '61100', '1650067'],\n",
       " ['2023.01.17', '61800', '2700', '64500', '64500', '61400', '3194397'],\n",
       " ['2023.01.16', '64500', '2500', '62300', '65000', '62000', '2989321'],\n",
       " ['2023.01.13', '62000', '500', '62100', '63000', '61500', '2248562'],\n",
       " ['2023.01.12', '61500', '400', '63000', '63400', '61100', '2197974'],\n",
       " ['2023.01.11', '61900', '1200', '61700', '62500', '60800', '2544430'],\n",
       " ['2023.01.26', '63600', '1000', '62800', '63700', '61700', '1325106'],\n",
       " ['2023.01.25', '62600', '0', '0', '0', '0', '2018473'],\n",
       " ['2023.01.20', '61200', '400', '60500', '61900', '60500', '1376217'],\n",
       " ['2023.01.19', '60800', '800', '61100', '61400', '60200', '1687361'],\n",
       " ['2023.01.18', '61600', '200', '61500', '62500', '61100', '1650067'],\n",
       " ['2023.01.17', '61800', '2700', '64500', '64500', '61400', '3194397'],\n",
       " ['2023.01.16', '64500', '2500', '62300', '65000', '62000', '2989321'],\n",
       " ['2023.01.13', '62000', '500', '62100', '63000', '61500', '2248562'],\n",
       " ['2023.01.12', '61500', '400', '63000', '63400', '61100', '2197974'],\n",
       " ['2023.01.11', '61900', '1200', '61700', '62500', '60800', '2544430'],\n",
       " ['2023.01.26', '63600', '1000', '62800', '63700', '61700', '1325106'],\n",
       " ['2023.01.25', '62600', '0', '0', '0', '0', '2018473'],\n",
       " ['2023.01.20', '61200', '400', '60500', '61900', '60500', '1376217'],\n",
       " ['2023.01.19', '60800', '800', '61100', '61400', '60200', '1687361'],\n",
       " ['2023.01.18', '61600', '200', '61500', '62500', '61100', '1650067'],\n",
       " ['2023.01.17', '61800', '2700', '64500', '64500', '61400', '3194397'],\n",
       " ['2023.01.16', '64500', '2500', '62300', '65000', '62000', '2989321'],\n",
       " ['2023.01.13', '62000', '500', '62100', '63000', '61500', '2248562'],\n",
       " ['2023.01.12', '61500', '400', '63000', '63400', '61100', '2197974'],\n",
       " ['2023.01.11', '61900', '1200', '61700', '62500', '60800', '2544430'],\n",
       " ['2023.01.26', '63600', '1000', '62800', '63700', '61700', '1325106'],\n",
       " ['2023.01.25', '62600', '0', '0', '0', '0', '2018473'],\n",
       " ['2023.01.20', '61200', '400', '60500', '61900', '60500', '1376217'],\n",
       " ['2023.01.19', '60800', '800', '61100', '61400', '60200', '1687361'],\n",
       " ['2023.01.18', '61600', '200', '61500', '62500', '61100', '1650067'],\n",
       " ['2023.01.17', '61800', '2700', '64500', '64500', '61400', '3194397'],\n",
       " ['2023.01.16', '64500', '2500', '62300', '65000', '62000', '2989321'],\n",
       " ['2023.01.13', '62000', '500', '62100', '63000', '61500', '2248562'],\n",
       " ['2023.01.12', '61500', '400', '63000', '63400', '61100', '2197974'],\n",
       " ['2023.01.11', '61900', '1200', '61700', '62500', '60800', '2544430'],\n",
       " ['2023.01.26', '63600', '1000', '62800', '63700', '61700', '1325106'],\n",
       " ['2023.01.25', '62600', '0', '0', '0', '0', '2018473'],\n",
       " ['2023.01.20', '61200', '400', '60500', '61900', '60500', '1376217'],\n",
       " ['2023.01.19', '60800', '800', '61100', '61400', '60200', '1687361'],\n",
       " ['2023.01.18', '61600', '200', '61500', '62500', '61100', '1650067'],\n",
       " ['2023.01.17', '61800', '2700', '64500', '64500', '61400', '3194397'],\n",
       " ['2023.01.16', '64500', '2500', '62300', '65000', '62000', '2989321'],\n",
       " ['2023.01.13', '62000', '500', '62100', '63000', '61500', '2248562'],\n",
       " ['2023.01.12', '61500', '400', '63000', '63400', '61100', '2197974'],\n",
       " ['2023.01.11', '61900', '1200', '61700', '62500', '60800', '2544430'],\n",
       " ['2023.01.26', '63600', '1000', '62800', '63700', '61700', '1325106'],\n",
       " ['2023.01.25', '62600', '0', '0', '0', '0', '2018473'],\n",
       " ['2023.01.20', '61200', '400', '60500', '61900', '60500', '1376217'],\n",
       " ['2023.01.19', '60800', '800', '61100', '61400', '60200', '1687361'],\n",
       " ['2023.01.18', '61600', '200', '61500', '62500', '61100', '1650067'],\n",
       " ['2023.01.17', '61800', '2700', '64500', '64500', '61400', '3194397'],\n",
       " ['2023.01.16', '64500', '2500', '62300', '65000', '62000', '2989321'],\n",
       " ['2023.01.13', '62000', '500', '62100', '63000', '61500', '2248562'],\n",
       " ['2023.01.12', '61500', '400', '63000', '63400', '61100', '2197974'],\n",
       " ['2023.01.11', '61900', '1200', '61700', '62500', '60800', '2544430'],\n",
       " ['2023.01.26', '63600', '1000', '62800', '63700', '61700', '1325106'],\n",
       " ['2023.01.25', '62600', '0', '0', '0', '0', '2018473'],\n",
       " ['2023.01.20', '61200', '400', '60500', '61900', '60500', '1376217'],\n",
       " ['2023.01.19', '60800', '800', '61100', '61400', '60200', '1687361'],\n",
       " ['2023.01.18', '61600', '200', '61500', '62500', '61100', '1650067'],\n",
       " ['2023.01.17', '61800', '2700', '64500', '64500', '61400', '3194397'],\n",
       " ['2023.01.16', '64500', '2500', '62300', '65000', '62000', '2989321'],\n",
       " ['2023.01.13', '62000', '500', '62100', '63000', '61500', '2248562'],\n",
       " ['2023.01.12', '61500', '400', '63000', '63400', '61100', '2197974'],\n",
       " ['2023.01.11', '61900', '1200', '61700', '62500', '60800', '2544430'],\n",
       " ['2023.01.26', '63600', '1000', '62800', '63700', '61700', '1325106'],\n",
       " ['2023.01.25', '62600', '0', '0', '0', '0', '2018473'],\n",
       " ['2023.01.20', '61200', '400', '60500', '61900', '60500', '1376217'],\n",
       " ['2023.01.19', '60800', '800', '61100', '61400', '60200', '1687361'],\n",
       " ['2023.01.18', '61600', '200', '61500', '62500', '61100', '1650067'],\n",
       " ['2023.01.17', '61800', '2700', '64500', '64500', '61400', '3194397'],\n",
       " ['2023.01.16', '64500', '2500', '62300', '65000', '62000', '2989321'],\n",
       " ['2023.01.13', '62000', '500', '62100', '63000', '61500', '2248562'],\n",
       " ['2023.01.12', '61500', '400', '63000', '63400', '61100', '2197974'],\n",
       " ['2023.01.11', '61900', '1200', '61700', '62500', '60800', '2544430'],\n",
       " ['2023.01.26', '63600', '1000', '62800', '63700', '61700', '1325106'],\n",
       " ['2023.01.25', '62600', '0', '0', '0', '0', '2018473'],\n",
       " ['2023.01.20', '61200', '400', '60500', '61900', '60500', '1376217'],\n",
       " ['2023.01.19', '60800', '800', '61100', '61400', '60200', '1687361'],\n",
       " ['2023.01.18', '61600', '200', '61500', '62500', '61100', '1650067'],\n",
       " ['2023.01.17', '61800', '2700', '64500', '64500', '61400', '3194397'],\n",
       " ['2023.01.16', '64500', '2500', '62300', '65000', '62000', '2989321'],\n",
       " ['2023.01.13', '62000', '500', '62100', '63000', '61500', '2248562'],\n",
       " ['2023.01.12', '61500', '400', '63000', '63400', '61100', '2197974'],\n",
       " ['2023.01.11', '61900', '1200', '61700', '62500', '60800', '2544430'],\n",
       " ['2023.01.26', '63600', '1000', '62800', '63700', '61700', '1325106'],\n",
       " ['2023.01.25', '62600', '0', '0', '0', '0', '2018473'],\n",
       " ['2023.01.20', '61200', '400', '60500', '61900', '60500', '1376217'],\n",
       " ['2023.01.19', '60800', '800', '61100', '61400', '60200', '1687361'],\n",
       " ['2023.01.18', '61600', '200', '61500', '62500', '61100', '1650067'],\n",
       " ['2023.01.17', '61800', '2700', '64500', '64500', '61400', '3194397'],\n",
       " ['2023.01.16', '64500', '2500', '62300', '65000', '62000', '2989321'],\n",
       " ['2023.01.13', '62000', '500', '62100', '63000', '61500', '2248562'],\n",
       " ['2023.01.12', '61500', '400', '63000', '63400', '61100', '2197974'],\n",
       " ['2023.01.11', '61900', '1200', '61700', '62500', '60800', '2544430']]"
      ]
     },
     "execution_count": 18,
     "metadata": {},
     "output_type": "execute_result"
    }
   ],
   "source": [
    "rt"
   ]
  },
  {
   "cell_type": "code",
   "execution_count": 12,
   "id": "40e8c021",
   "metadata": {},
   "outputs": [],
   "source": [
    "import csv"
   ]
  },
  {
   "cell_type": "code",
   "execution_count": 13,
   "id": "f26d4826",
   "metadata": {},
   "outputs": [],
   "source": [
    "f = open(\"./삼성전자.csv\", 'w', encoding='utf-8')\n",
    "wr = csv.writer(f)\n",
    "for x in rt:\n",
    "    wr.writerow(x)\n",
    "f.close()"
   ]
  },
  {
   "cell_type": "code",
   "execution_count": null,
   "id": "20a401b3",
   "metadata": {},
   "outputs": [],
   "source": [
    "kakao = get_stock('005930', 1, 4)"
   ]
  },
  {
   "cell_type": "code",
   "execution_count": null,
   "id": "27d32681",
   "metadata": {},
   "outputs": [],
   "source": [
    "f = open(\"./삼성전자2.csv\", 'a', encoding='utf-8', newline=\"\")\n",
    "wr = csv.writer(f)\n",
    "for x in rt:\n",
    "    wr.writerow(x)\n",
    "f.close()"
   ]
  },
  {
   "cell_type": "code",
   "execution_count": null,
   "id": "59898b4b",
   "metadata": {},
   "outputs": [],
   "source": [
    "url = \"http://data.krx.co.kr/contents/MDC/MDI/mdiLoader/index.cmd?menuId=MDC0201020101\"\n",
    "head = {\n",
    "    \"User-Agent\": \"mozilla/5.0 (windows nt 10.0; win64; x64) applewebkit/537.36 (khtml, like gecko) chrome/94.0.4606.71 safari/537.36 edg/94.0.992.38\"\n",
    "}"
   ]
  },
  {
   "cell_type": "code",
   "execution_count": 72,
   "id": "495228dc",
   "metadata": {},
   "outputs": [],
   "source": [
    "krx_url = \"http://data.krx.co.kr/comm/bldAttendant/getJsonData.cmd\"\n",
    "payload = {\n",
    "    \"bld\": \"dbms/MDC/STAT/standard/MDCSTAT01501\", \n",
    "    \"locale\": \"ko_KR\", \n",
    "    \"mktId\": \"ALL\", \n",
    "    \"trdDd\": \"20230126\", \n",
    "    \"share\": \"1\", \n",
    "    \"money\": \"1\", \n",
    "    \"csvxls_isNo\": \"false\" \n",
    "}"
   ]
  },
  {
   "cell_type": "code",
   "execution_count": 76,
   "id": "cb586e4f",
   "metadata": {},
   "outputs": [],
   "source": [
    "import requests\n",
    "r = requests.post(krx_url, data=payload, headers=head)"
   ]
  },
  {
   "cell_type": "code",
   "execution_count": null,
   "id": "5aac480b",
   "metadata": {},
   "outputs": [],
   "source": [
    "import pickle\n",
    "with open(\"./krx.pkl\", \"rb\") as f:\n",
    "    krx = pickle.load(f)"
   ]
  },
  {
   "cell_type": "code",
   "execution_count": 77,
   "id": "e31c5a00",
   "metadata": {},
   "outputs": [
    {
     "data": {
      "text/plain": [
       "2"
      ]
     },
     "execution_count": 77,
     "metadata": {},
     "output_type": "execute_result"
    }
   ],
   "source": [
    "len(krx.json())"
   ]
  },
  {
   "cell_type": "code",
   "execution_count": null,
   "id": "aed50998",
   "metadata": {},
   "outputs": [],
   "source": [
    "#pickle "
   ]
  },
  {
   "cell_type": "code",
   "execution_count": 71,
   "id": "7ebbdac2",
   "metadata": {},
   "outputs": [],
   "source": [
    "import os"
   ]
  },
  {
   "cell_type": "code",
   "execution_count": 70,
   "id": "74037c69",
   "metadata": {},
   "outputs": [
    {
     "name": "stdout",
     "output_type": "stream",
     "text": [
      "060310 3S\n"
     ]
    },
    {
     "name": "stderr",
     "output_type": "stream",
     "text": [
      "C:\\workspace\\encore.py:14: GuessedAtParserWarning: No parser was explicitly specified, so I'm using the best available HTML parser for this system (\"lxml\"). This usually isn't a problem, but if you run this code on another system, or in a different virtual environment, it may use a different parser and behave differently.\n",
      "\n",
      "The code that caused this warning is on line 14 of the file C:\\workspace\\encore.py. To get rid of this warning, pass the additional argument 'features=\"lxml\"' to the BeautifulSoup constructor.\n",
      "\n",
      "  bs = BS(r.text)\n"
     ]
    },
    {
     "ename": "LookupError",
     "evalue": "unknown encoding: uft-8",
     "output_type": "error",
     "traceback": [
      "\u001b[1;31m---------------------------------------------------------------------------\u001b[0m",
      "\u001b[1;31mLookupError\u001b[0m                               Traceback (most recent call last)",
      "\u001b[1;32m~\\AppData\\Local\\Temp\\ipykernel_24088\\2772092759.py\u001b[0m in \u001b[0;36m<module>\u001b[1;34m\u001b[0m\n\u001b[0;32m      4\u001b[0m         \u001b[0mos\u001b[0m\u001b[1;33m.\u001b[0m\u001b[0mmkdir\u001b[0m\u001b[1;33m(\u001b[0m\u001b[1;34m\"./stock\"\u001b[0m\u001b[1;33m)\u001b[0m\u001b[1;33m\u001b[0m\u001b[1;33m\u001b[0m\u001b[0m\n\u001b[0;32m      5\u001b[0m     \u001b[0mrt\u001b[0m \u001b[1;33m=\u001b[0m \u001b[0mget_stock\u001b[0m\u001b[1;33m(\u001b[0m\u001b[0mx\u001b[0m\u001b[1;33m[\u001b[0m\u001b[1;34m'ISU_SRT_CD'\u001b[0m\u001b[1;33m]\u001b[0m\u001b[1;33m,\u001b[0m \u001b[1;36m1\u001b[0m\u001b[1;33m,\u001b[0m \u001b[1;36m2\u001b[0m\u001b[1;33m)\u001b[0m\u001b[1;33m\u001b[0m\u001b[1;33m\u001b[0m\u001b[0m\n\u001b[1;32m----> 6\u001b[1;33m     \u001b[0mf\u001b[0m \u001b[1;33m=\u001b[0m \u001b[0mopen\u001b[0m\u001b[1;33m(\u001b[0m\u001b[1;34mf\"./stock/{x['ISU_ABBRV']}.csv\"\u001b[0m\u001b[1;33m,\u001b[0m \u001b[1;34m'w'\u001b[0m\u001b[1;33m,\u001b[0m \u001b[0mencoding\u001b[0m\u001b[1;33m=\u001b[0m\u001b[1;34m'uft-8'\u001b[0m\u001b[1;33m,\u001b[0m \u001b[0mnewline\u001b[0m\u001b[1;33m=\u001b[0m\u001b[1;34m\"\"\u001b[0m\u001b[1;33m)\u001b[0m\u001b[1;33m\u001b[0m\u001b[1;33m\u001b[0m\u001b[0m\n\u001b[0m\u001b[0;32m      7\u001b[0m     \u001b[0mwr\u001b[0m \u001b[1;33m=\u001b[0m \u001b[0mcsv\u001b[0m\u001b[1;33m.\u001b[0m\u001b[0mwriter\u001b[0m\u001b[1;33m(\u001b[0m\u001b[0mf\u001b[0m\u001b[1;33m)\u001b[0m\u001b[1;33m\u001b[0m\u001b[1;33m\u001b[0m\u001b[0m\n\u001b[0;32m      8\u001b[0m     \u001b[0mwr\u001b[0m\u001b[1;33m.\u001b[0m\u001b[0mwriterow\u001b[0m\u001b[1;33m(\u001b[0m\u001b[0mx\u001b[0m\u001b[1;33m)\u001b[0m\u001b[1;33m\u001b[0m\u001b[1;33m\u001b[0m\u001b[0m\n",
      "\u001b[1;31mLookupError\u001b[0m: unknown encoding: uft-8"
     ]
    }
   ],
   "source": [
    "for x in r.json()['OutBlock_1']:\n",
    "    print(x['ISU_SRT_CD'], x['ISU_ABBRV'])\n",
    "    if os.path.isdir(\"./stock\") == False:\n",
    "        os.mkdir(\"./stock\")\n",
    "    rt = get_stock(x['ISU_SRT_CD'], 1, 2)\n",
    "    f = open(f\"./stock/{x['ISU_ABBRV']}.csv\", 'w', encoding='uft-8', newline=\"\")\n",
    "    wr = csv.writer(f)\n",
    "    wr.writerow(x)\n",
    "    f.close()"
   ]
  },
  {
   "cell_type": "code",
   "execution_count": 75,
   "id": "20f855e8",
   "metadata": {},
   "outputs": [
    {
     "data": {
      "text/plain": [
       "True"
      ]
     },
     "execution_count": 75,
     "metadata": {},
     "output_type": "execute_result"
    }
   ],
   "source": [
    "os.path.isdir(\"./stock\")"
   ]
  },
  {
   "cell_type": "code",
   "execution_count": null,
   "id": "635e0f98",
   "metadata": {},
   "outputs": [],
   "source": [
    "import sys"
   ]
  },
  {
   "cell_type": "code",
   "execution_count": null,
   "id": "193007f0",
   "metadata": {},
   "outputs": [],
   "source": [
    "sys.version"
   ]
  },
  {
   "cell_type": "code",
   "execution_count": 48,
   "id": "26f46831",
   "metadata": {},
   "outputs": [],
   "source": [
    "import time\n",
    "import random"
   ]
  },
  {
   "cell_type": "code",
   "execution_count": 50,
   "id": "ddc523b7",
   "metadata": {},
   "outputs": [],
   "source": [
    "time.sleep(random.randint(1, 4))"
   ]
  },
  {
   "cell_type": "code",
   "execution_count": 79,
   "id": "63858520",
   "metadata": {},
   "outputs": [],
   "source": [
    "def get_calc(x):\n",
    "    return x ** 2"
   ]
  },
  {
   "cell_type": "code",
   "execution_count": 82,
   "id": "8e4d540d",
   "metadata": {},
   "outputs": [
    {
     "data": {
      "text/plain": [
       "[1, 4, 9, 9, 16, 25, 36]"
      ]
     },
     "execution_count": 82,
     "metadata": {},
     "output_type": "execute_result"
    }
   ],
   "source": [
    "list(map(get_calc, [1,2,3,3,4,5,6]))"
   ]
  },
  {
   "cell_type": "code",
   "execution_count": 84,
   "id": "ef1a2e87",
   "metadata": {},
   "outputs": [
    {
     "data": {
      "text/plain": [
       "[1, 4, 9, 9, 16, 25, 36]"
      ]
     },
     "execution_count": 84,
     "metadata": {},
     "output_type": "execute_result"
    }
   ],
   "source": [
    "list(map(lambda x : x ** 2, [1,2,3,3,4,5,6]))"
   ]
  },
  {
   "cell_type": "code",
   "execution_count": 86,
   "id": "4cf6b354",
   "metadata": {},
   "outputs": [
    {
     "data": {
      "text/plain": [
       "12"
      ]
     },
     "execution_count": 86,
     "metadata": {},
     "output_type": "execute_result"
    }
   ],
   "source": [
    "(lambda x, y : x + y if x % 2 == 0 else x * y)(3, 4)"
   ]
  }
 ],
 "metadata": {
  "kernelspec": {
   "display_name": "Python 3 (ipykernel)",
   "language": "python",
   "name": "python3"
  },
  "language_info": {
   "codemirror_mode": {
    "name": "ipython",
    "version": 3
   },
   "file_extension": ".py",
   "mimetype": "text/x-python",
   "name": "python",
   "nbconvert_exporter": "python",
   "pygments_lexer": "ipython3",
   "version": "3.9.13"
  }
 },
 "nbformat": 4,
 "nbformat_minor": 5
}
